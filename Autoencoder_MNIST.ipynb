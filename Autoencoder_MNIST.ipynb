{
 "cells": [
  {
   "cell_type": "code",
   "execution_count": 6,
   "metadata": {},
   "outputs": [],
   "source": [
    "from tensorflow import keras\n",
    "from keras.layers import Input, Dense as Input, Dense\n",
    "from keras.models import Model as Model\n",
    "\n",
    "encoding_dim = 32  \n",
    "\n",
    "input_img = keras.layers.Input(shape=(784,))\n",
    "encoded = keras.layers.Dense(encoding_dim, activation='relu')(input_img)\n",
    "decoded = keras.layers.Dense(784, activation='sigmoid')(encoded)\n",
    "\n",
    "autoencoder = keras.Model(input_img, decoded)"
   ]
  },
  {
   "cell_type": "code",
   "execution_count": 8,
   "metadata": {},
   "outputs": [],
   "source": [
    "encoder = keras.Model(input_img, encoded)"
   ]
  },
  {
   "cell_type": "code",
   "execution_count": 9,
   "metadata": {},
   "outputs": [],
   "source": [
    "encoded_input = keras.layers.Input(shape=(encoding_dim,))\n",
    "decoder_layer = autoencoder.layers[-1]\n",
    "# create the decoder model\n",
    "decoder = keras.Model(encoded_input, decoder_layer(encoded_input))"
   ]
  },
  {
   "cell_type": "code",
   "execution_count": 18,
   "metadata": {},
   "outputs": [],
   "source": [
    "autoencoder.compile(loss='binary_crossentropy')"
   ]
  },
  {
   "cell_type": "code",
   "execution_count": 19,
   "metadata": {},
   "outputs": [],
   "source": [
    "from keras.datasets import mnist\n",
    "import numpy as np\n",
    "(x_train, _), (x_test, _) = mnist.load_data()"
   ]
  },
  {
   "cell_type": "code",
   "execution_count": 20,
   "metadata": {},
   "outputs": [
    {
     "name": "stdout",
     "output_type": "stream",
     "text": [
      "(60000, 784)\n",
      "(10000, 784)\n"
     ]
    }
   ],
   "source": [
    "x_train = x_train.astype('float32') / 255.\n",
    "x_test = x_test.astype('float32') / 255.\n",
    "x_train = x_train.reshape((len(x_train), np.prod(x_train.shape[1:])))\n",
    "x_test = x_test.reshape((len(x_test), np.prod(x_test.shape[1:])))\n",
    "print(x_train.shape)\n",
    "print(x_test.shape)"
   ]
  },
  {
   "cell_type": "code",
   "execution_count": 21,
   "metadata": {},
   "outputs": [
    {
     "name": "stdout",
     "output_type": "stream",
     "text": [
      "Train on 60000 samples, validate on 10000 samples\n",
      "Epoch 1/50\n",
      "60000/60000 [==============================] - 2s 31us/sample - loss: 0.2380 - val_loss: 0.1654\n",
      "Epoch 2/50\n",
      "60000/60000 [==============================] - 1s 20us/sample - loss: 0.1469 - val_loss: 0.1313\n",
      "Epoch 3/50\n",
      "60000/60000 [==============================] - 1s 19us/sample - loss: 0.1247 - val_loss: 0.1176\n",
      "Epoch 4/50\n",
      "60000/60000 [==============================] - 1s 24us/sample - loss: 0.1143 - val_loss: 0.1097\n",
      "Epoch 5/50\n",
      "60000/60000 [==============================] - 2s 28us/sample - loss: 0.1081 - val_loss: 0.1052\n",
      "Epoch 6/50\n",
      "60000/60000 [==============================] - 2s 28us/sample - loss: 0.1043 - val_loss: 0.1022\n",
      "Epoch 7/50\n",
      "60000/60000 [==============================] - 2s 26us/sample - loss: 0.1017 - val_loss: 0.1008\n",
      "Epoch 8/50\n",
      "60000/60000 [==============================] - 2s 27us/sample - loss: 0.1000 - val_loss: 0.1002\n",
      "Epoch 9/50\n",
      "60000/60000 [==============================] - 2s 34us/sample - loss: 0.0988 - val_loss: 0.0977\n",
      "Epoch 10/50\n",
      "60000/60000 [==============================] - 2s 36us/sample - loss: 0.0979 - val_loss: 0.0962\n",
      "Epoch 11/50\n",
      "60000/60000 [==============================] - 2s 36us/sample - loss: 0.0972 - val_loss: 0.0956\n",
      "Epoch 12/50\n",
      "60000/60000 [==============================] - 2s 39us/sample - loss: 0.0967 - val_loss: 0.0974\n",
      "Epoch 13/50\n",
      "60000/60000 [==============================] - 2s 34us/sample - loss: 0.0964 - val_loss: 0.0959\n",
      "Epoch 14/50\n",
      "60000/60000 [==============================] - 3s 42us/sample - loss: 0.0960 - val_loss: 0.0962\n",
      "Epoch 15/50\n",
      "60000/60000 [==============================] - 3s 47us/sample - loss: 0.0958 - val_loss: 0.0953\n",
      "Epoch 16/50\n",
      "60000/60000 [==============================] - 3s 45us/sample - loss: 0.0955 - val_loss: 0.0943\n",
      "Epoch 17/50\n",
      "60000/60000 [==============================] - 2s 38us/sample - loss: 0.0954 - val_loss: 0.0938\n",
      "Epoch 18/50\n",
      "60000/60000 [==============================] - 3s 42us/sample - loss: 0.0952 - val_loss: 0.0939\n",
      "Epoch 19/50\n",
      "60000/60000 [==============================] - 3s 48us/sample - loss: 0.0951 - val_loss: 0.0940\n",
      "Epoch 20/50\n",
      "60000/60000 [==============================] - 2s 41us/sample - loss: 0.0950 - val_loss: 0.0951\n",
      "Epoch 21/50\n",
      "60000/60000 [==============================] - 2s 38us/sample - loss: 0.0949 - val_loss: 0.0946\n",
      "Epoch 22/50\n",
      "60000/60000 [==============================] - 2s 28us/sample - loss: 0.0948 - val_loss: 0.0934\n",
      "Epoch 23/50\n",
      "60000/60000 [==============================] - 2s 26us/sample - loss: 0.0947 - val_loss: 0.0948\n",
      "Epoch 24/50\n",
      "60000/60000 [==============================] - 2s 25us/sample - loss: 0.0946 - val_loss: 0.0946\n",
      "Epoch 25/50\n",
      "60000/60000 [==============================] - 2s 26us/sample - loss: 0.0945 - val_loss: 0.0947\n",
      "Epoch 26/50\n",
      "60000/60000 [==============================] - 2s 27us/sample - loss: 0.0945 - val_loss: 0.0930\n",
      "Epoch 27/50\n",
      "60000/60000 [==============================] - 3s 45us/sample - loss: 0.0944 - val_loss: 0.0932\n",
      "Epoch 28/50\n",
      "60000/60000 [==============================] - 3s 44us/sample - loss: 0.0944 - val_loss: 0.0930\n",
      "Epoch 29/50\n",
      "60000/60000 [==============================] - 2s 29us/sample - loss: 0.0943 - val_loss: 0.0934\n",
      "Epoch 30/50\n",
      "60000/60000 [==============================] - 2s 30us/sample - loss: 0.0943 - val_loss: 0.0930\n",
      "Epoch 31/50\n",
      "60000/60000 [==============================] - 2s 32us/sample - loss: 0.0942 - val_loss: 0.0944\n",
      "Epoch 32/50\n",
      "60000/60000 [==============================] - 2s 29us/sample - loss: 0.0942 - val_loss: 0.0932\n",
      "Epoch 33/50\n",
      "60000/60000 [==============================] - 2s 27us/sample - loss: 0.0942 - val_loss: 0.0935\n",
      "Epoch 34/50\n",
      "60000/60000 [==============================] - 2s 25us/sample - loss: 0.0941 - val_loss: 0.0929\n",
      "Epoch 35/50\n",
      "60000/60000 [==============================] - 2s 25us/sample - loss: 0.0940 - val_loss: 0.0925\n",
      "Epoch 36/50\n",
      "60000/60000 [==============================] - 2s 27us/sample - loss: 0.0940 - val_loss: 0.0924\n",
      "Epoch 37/50\n",
      "60000/60000 [==============================] - 2s 26us/sample - loss: 0.0940 - val_loss: 0.0924\n",
      "Epoch 38/50\n",
      "60000/60000 [==============================] - 2s 27us/sample - loss: 0.0939 - val_loss: 0.0938\n",
      "Epoch 39/50\n",
      "60000/60000 [==============================] - 2s 33us/sample - loss: 0.0939 - val_loss: 0.0932\n",
      "Epoch 40/50\n",
      "60000/60000 [==============================] - 2s 29us/sample - loss: 0.0939 - val_loss: 0.0928\n",
      "Epoch 41/50\n",
      "60000/60000 [==============================] - 2s 28us/sample - loss: 0.0939 - val_loss: 0.0945\n",
      "Epoch 42/50\n",
      "60000/60000 [==============================] - 2s 27us/sample - loss: 0.0939 - val_loss: 0.0930\n",
      "Epoch 43/50\n",
      "60000/60000 [==============================] - 2s 26us/sample - loss: 0.0938 - val_loss: 0.0927\n",
      "Epoch 44/50\n",
      "60000/60000 [==============================] - 2s 26us/sample - loss: 0.0938 - val_loss: 0.0932\n",
      "Epoch 45/50\n",
      "60000/60000 [==============================] - 2s 27us/sample - loss: 0.0938 - val_loss: 0.0929\n",
      "Epoch 46/50\n",
      "60000/60000 [==============================] - 2s 28us/sample - loss: 0.0938 - val_loss: 0.0929\n",
      "Epoch 47/50\n",
      "60000/60000 [==============================] - 2s 28us/sample - loss: 0.0937 - val_loss: 0.0926\n",
      "Epoch 48/50\n",
      "60000/60000 [==============================] - 2s 29us/sample - loss: 0.0937 - val_loss: 0.0928\n",
      "Epoch 49/50\n",
      "60000/60000 [==============================] - 2s 26us/sample - loss: 0.0937 - val_loss: 0.0928\n",
      "Epoch 50/50\n",
      "60000/60000 [==============================] - 2s 25us/sample - loss: 0.0937 - val_loss: 0.0924\n"
     ]
    },
    {
     "data": {
      "text/plain": [
       "<tensorflow.python.keras.callbacks.History at 0x1e7ed8907f0>"
      ]
     },
     "execution_count": 21,
     "metadata": {},
     "output_type": "execute_result"
    }
   ],
   "source": [
    "autoencoder.fit(x_train, x_train,\n",
    "                epochs=50,\n",
    "                batch_size=256,\n",
    "                shuffle=True,\n",
    "                validation_data=(x_test, x_test))"
   ]
  },
  {
   "cell_type": "code",
   "execution_count": 22,
   "metadata": {},
   "outputs": [],
   "source": [
    "# encode and decode some digits\n",
    "# note that we take them from the *test* set\n",
    "encoded_imgs = encoder.predict(x_test)\n",
    "decoded_imgs = decoder.predict(encoded_imgs)"
   ]
  },
  {
   "cell_type": "code",
   "execution_count": 23,
   "metadata": {},
   "outputs": [
    {
     "data": {
      "image/png": "[encoded data removed]",
      "text/plain": [
       "<Figure size 1440x288 with 20 Axes>"
      ]
     },
     "metadata": {
      "needs_background": "light"
     },
     "output_type": "display_data"
    }
   ],
   "source": [
    "# use Matplotlib (don't ask)\n",
    "import matplotlib.pyplot as plt\n",
    "\n",
    "n = 10  # how many digits we will display\n",
    "plt.figure(figsize=(20, 4))\n",
    "for i in range(n):\n",
    "    # display original\n",
    "    ax = plt.subplot(2, n, i + 1)\n",
    "    plt.imshow(x_test[i].reshape(28, 28))\n",
    "    plt.gray()\n",
    "    ax.get_xaxis().set_visible(False)\n",
    "    ax.get_yaxis().set_visible(False)\n",
    "\n",
    "    # display reconstruction\n",
    "    ax = plt.subplot(2, n, i + 1 + n)\n",
    "    plt.imshow(decoded_imgs[i].reshape(28, 28))\n",
    "    plt.gray()\n",
    "    ax.get_xaxis().set_visible(False)\n",
    "    ax.get_yaxis().set_visible(False)\n",
    "plt.show()"
   ]
  },
  {
   "cell_type": "code",
   "execution_count": null,
   "metadata": {},
   "outputs": [],
   "source": []
  }
 ],
 "metadata": {
  "kernelspec": {
   "display_name": "Python 3",
   "language": "python",
   "name": "python3"
  },
  "language_info": {
   "codemirror_mode": {
    "name": "ipython",
    "version": 3
   },
   "file_extension": ".py",
   "mimetype": "text/x-python",
   "name": "python",
   "nbconvert_exporter": "python",
   "pygments_lexer": "ipython3",
   "version": "3.7.3"
  }
 },
 "nbformat": 4,
 "nbformat_minor": 2
}
