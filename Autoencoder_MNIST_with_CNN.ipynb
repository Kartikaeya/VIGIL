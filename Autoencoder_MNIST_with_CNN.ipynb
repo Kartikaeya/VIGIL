{
 "cells": [
  {
   "cell_type": "code",
   "execution_count": 1,
   "metadata": {},
   "outputs": [
    {
     "name": "stderr",
     "output_type": "stream",
     "text": [
      "Using TensorFlow backend.\n"
     ]
    }
   ],
   "source": [
    "import numpy as np\n",
    "from tensorflow import keras\n",
    "from keras.layers import Input, Dense\n",
    "from keras import Model\n",
    "from keras.datasets import mnist\n",
    "from matplotlib import pyplot as plt"
   ]
  },
  {
   "cell_type": "code",
   "execution_count": 65,
   "metadata": {},
   "outputs": [],
   "source": [
    "# preprocessing input data\n",
    "(x_train , y_train), (x_test, y_test) = mnist.load_data()"
   ]
  },
  {
   "cell_type": "code",
   "execution_count": 66,
   "metadata": {},
   "outputs": [],
   "source": [
    "# x_train = x_train.astype('float32')/255\n",
    "# x_test = x_test.astype('float32')/255\n",
    "x_train = np.reshape(x_train, (len(x_train), 28, 28, 1))\n",
    "x_test = np.reshape(x_test, (len(x_test), 28, 28, 1))\n",
    "# x_train = x_train.reshape((len(x_train), np.prod(x_train.shape[1:])))\n",
    "# x_test =  x_test.reshape((len(x_test), np.prod(x_test.shape[1:])))"
   ]
  },
  {
   "cell_type": "code",
   "execution_count": 67,
   "metadata": {},
   "outputs": [
    {
     "name": "stdout",
     "output_type": "stream",
     "text": [
      "shape x_train :  (60000, 28, 28, 1)\n",
      "shape x_test :  (10000, 28, 28, 1)\n"
     ]
    }
   ],
   "source": [
    "print(\"shape x_train : \", x_train.shape)\n",
    "print(\"shape x_test : \", x_test.shape)"
   ]
  },
  {
   "cell_type": "code",
   "execution_count": 72,
   "metadata": {},
   "outputs": [],
   "source": [
    "# defining the model\n",
    "encoded_size = 32\n",
    "\n",
    "autoencoder = keras.models.Sequential()\n",
    "autoencoder.add(keras.layers.Input(shape = (28,28,1)))\n",
    "autoencoder.add(keras.layers.Conv2D(32, (3,3), activation = 'relu',padding = 'same'))\n",
    "autoencoder.add(keras.layers.MaxPooling2D((2,2),padding = 'same'))\n",
    "autoencoder.add(keras.layers.Conv2D(32, (3,3), activation = 'relu',padding = 'same'))\n",
    "autoencoder.add(keras.layers.MaxPooling2D((2,2),padding = 'same'))\n",
    "autoencoder.add(keras.layers.UpSampling2D((2,2)))\n",
    "autoencoder.add(keras.layers.Conv2D(32, (3,3), activation = 'relu',padding = 'same'))\n",
    "autoencoder.add(keras.layers.UpSampling2D((2,2)))\n",
    "autoencoder.add(keras.layers.Conv2D(1, (3,3), activation = 'relu',padding = 'same'))\n",
    "\n",
    "# autoencoder.add(keras.layers.Dense(784, activation = \"sigmoid\"))\n",
    "\n",
    "# encoding_dim = 32  # 32 floats -> compression of factor 24.5, assuming the input is 784 floats\n",
    "\n",
    "# # this is our input placeholder\n",
    "# input_img = keras.layers.Input(shape=(784,))\n",
    "# # \"encoded\" is the encoded representation of the input\n",
    "# encoded = keras.layers.Dense(encoding_dim, activation='relu')(input_img)\n",
    "# # \"decoded\" is the lossy reconstruction of the input\n",
    "# decoded = keras.layers.Dense(784, activation='sigmoid')(encoded)\n",
    "\n",
    "# # this model maps an input to its reconstruction\n",
    "# autoencoder = keras.Model(input_img, decoded)"
   ]
  },
  {
   "cell_type": "code",
   "execution_count": 73,
   "metadata": {},
   "outputs": [
    {
     "name": "stdout",
     "output_type": "stream",
     "text": [
      "Model: \"sequential_11\"\n",
      "_________________________________________________________________\n",
      "Layer (type)                 Output Shape              Param #   \n",
      "=================================================================\n",
      "conv2d_32 (Conv2D)           (None, 28, 28, 32)        320       \n",
      "_________________________________________________________________\n",
      "max_pooling2d_19 (MaxPooling (None, 14, 14, 32)        0         \n",
      "_________________________________________________________________\n",
      "conv2d_33 (Conv2D)           (None, 14, 14, 32)        9248      \n",
      "_________________________________________________________________\n",
      "max_pooling2d_20 (MaxPooling (None, 7, 7, 32)          0         \n",
      "_________________________________________________________________\n",
      "up_sampling2d_14 (UpSampling (None, 14, 14, 32)        0         \n",
      "_________________________________________________________________\n",
      "conv2d_34 (Conv2D)           (None, 14, 14, 32)        9248      \n",
      "_________________________________________________________________\n",
      "up_sampling2d_15 (UpSampling (None, 28, 28, 32)        0         \n",
      "_________________________________________________________________\n",
      "conv2d_35 (Conv2D)           (None, 28, 28, 1)         289       \n",
      "=================================================================\n",
      "Total params: 19,105\n",
      "Trainable params: 19,105\n",
      "Non-trainable params: 0\n",
      "_________________________________________________________________\n"
     ]
    }
   ],
   "source": [
    "autoencoder.summary()"
   ]
  },
  {
   "cell_type": "code",
   "execution_count": 74,
   "metadata": {},
   "outputs": [],
   "source": [
    "autoencoder.compile(loss = 'mean_squared_error', optimizer = 'adam' )"
   ]
  },
  {
   "cell_type": "code",
   "execution_count": 75,
   "metadata": {},
   "outputs": [
    {
     "name": "stdout",
     "output_type": "stream",
     "text": [
      "Train on 60000 samples, validate on 10000 samples\n",
      "Epoch 1/5\n",
      "60000/60000 [==============================] - 23s 378us/sample - loss: 319.5438 - val_loss: 180.7956\n",
      "Epoch 2/5\n",
      "60000/60000 [==============================] - 22s 371us/sample - loss: 164.5056 - val_loss: 146.7653\n",
      "Epoch 3/5\n",
      "60000/60000 [==============================] - 22s 368us/sample - loss: 134.6170 - val_loss: 126.0499\n",
      "Epoch 4/5\n",
      "60000/60000 [==============================] - 21s 346us/sample - loss: 118.4502 - val_loss: 109.5072\n",
      "Epoch 5/5\n",
      "60000/60000 [==============================] - 22s 370us/sample - loss: 108.1753 - val_loss: 101.1400\n"
     ]
    },
    {
     "data": {
      "text/plain": [
       "<tensorflow.python.keras.callbacks.History at 0x10c6861f748>"
      ]
     },
     "execution_count": 75,
     "metadata": {},
     "output_type": "execute_result"
    }
   ],
   "source": [
    "autoencoder.fit(x_train, x_train, epochs = 5, shuffle = True, validation_data = (x_test, x_test))"
   ]
  },
  {
   "cell_type": "code",
   "execution_count": 76,
   "metadata": {},
   "outputs": [],
   "source": [
    "decoded_images = autoencoder.predict(x_test)\n",
    "# decoded_images[0] = decoded_images[0]*255\n",
    "# plt.imshow(decoded_images[0].reshape(28,28))\n",
    "# print(decoded_images[0])\n",
    "# print(x_test[0])"
   ]
  },
  {
   "cell_type": "code",
   "execution_count": 77,
   "metadata": {},
   "outputs": [
    {
     "data": {
      "image/png": "[encoded data removed]",
      "text/plain": [
       "<Figure size 1440x288 with 20 Axes>"
      ]
     },
     "metadata": {
      "needs_background": "light"
     },
     "output_type": "display_data"
    }
   ],
   "source": [
    "n = 10  # how many digits we will display\n",
    "plt.figure(figsize=(20, 4))\n",
    "for i in range(n):\n",
    "    # display original\n",
    "    ax = plt.subplot(2, n, i + 1)\n",
    "    plt.imshow(x_test[i+10].reshape(28, 28))\n",
    "    plt.gray()\n",
    "    ax.get_xaxis().set_visible(False)\n",
    "    ax.get_yaxis().set_visible(False)\n",
    "\n",
    "    # display reconstruction\n",
    "    ax = plt.subplot(2, n, i + 1 + n)\n",
    "    plt.imshow(decoded_images[i+10].reshape(28, 28))\n",
    "    plt.gray()\n",
    "    ax.get_xaxis().set_visible(False)\n",
    "    ax.get_yaxis().set_visible(False)\n",
    "plt.show()"
   ]
  },
  {
   "cell_type": "code",
   "execution_count": null,
   "metadata": {},
   "outputs": [],
   "source": []
  }
 ],
 "metadata": {
  "kernelspec": {
   "display_name": "Python 3",
   "language": "python",
   "name": "python3"
  },
  "language_info": {
   "codemirror_mode": {
    "name": "ipython",
    "version": 3
   },
   "file_extension": ".py",
   "mimetype": "text/x-python",
   "name": "python",
   "nbconvert_exporter": "python",
   "pygments_lexer": "ipython3",
   "version": "3.7.3"
  }
 },
 "nbformat": 4,
 "nbformat_minor": 2
}
