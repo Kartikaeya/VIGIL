{
 "cells": [
  {
   "cell_type": "code",
   "execution_count": 1,
   "metadata": {},
   "outputs": [
    {
     "name": "stderr",
     "output_type": "stream",
     "text": [
      "Using TensorFlow backend.\n"
     ]
    }
   ],
   "source": [
    "from tensorflow import keras \n",
    "from keras.preprocessing.image import ImageDataGenerator\n",
    "from tensorflow.keras.layers import Dense, Activation, Flatten, Dropout, BatchNormalization\n",
    "from tensorflow.keras.layers import Conv2D as Conv2D\n",
    "from tensorflow.keras.layers import MaxPooling2D as MaxPooling2D\n",
    "from tensorflow.keras import regularizers, optimizers\n",
    "from matplotlib import pyplot as plt\n",
    "import cv2\n",
    "import pandas as pd\n",
    "import numpy as np\n",
    "import os"
   ]
  },
  {
   "cell_type": "code",
   "execution_count": 2,
   "metadata": {},
   "outputs": [],
   "source": [
    "f = open('keypoints.csv')\n",
    "keypoints_frame = pd.read_csv(f, delimiter = ' ', header = None , names = ['x', 'y', 'visible'])"
   ]
  },
  {
   "cell_type": "code",
   "execution_count": 3,
   "metadata": {},
   "outputs": [
    {
     "data": {
      "text/html": [
       "<div>\n",
       "<style scoped>\n",
       "    .dataframe tbody tr th:only-of-type {\n",
       "        vertical-align: middle;\n",
       "    }\n",
       "\n",
       "    .dataframe tbody tr th {\n",
       "        vertical-align: top;\n",
       "    }\n",
       "\n",
       "    .dataframe thead th {\n",
       "        text-align: right;\n",
       "    }\n",
       "</style>\n",
       "<table border=\"1\" class=\"dataframe\">\n",
       "  <thead>\n",
       "    <tr style=\"text-align: right;\">\n",
       "      <th></th>\n",
       "      <th>x</th>\n",
       "      <th>y</th>\n",
       "      <th>visible</th>\n",
       "    </tr>\n",
       "  </thead>\n",
       "  <tbody>\n",
       "    <tr>\n",
       "      <th>0</th>\n",
       "      <td>394</td>\n",
       "      <td>139</td>\n",
       "      <td>2</td>\n",
       "    </tr>\n",
       "    <tr>\n",
       "      <th>1</th>\n",
       "      <td>414</td>\n",
       "      <td>118</td>\n",
       "      <td>2</td>\n",
       "    </tr>\n",
       "    <tr>\n",
       "      <th>2</th>\n",
       "      <td>333</td>\n",
       "      <td>231</td>\n",
       "      <td>2</td>\n",
       "    </tr>\n",
       "    <tr>\n",
       "      <th>3</th>\n",
       "      <td>351</td>\n",
       "      <td>216</td>\n",
       "      <td>2</td>\n",
       "    </tr>\n",
       "    <tr>\n",
       "      <th>4</th>\n",
       "      <td>0</td>\n",
       "      <td>0</td>\n",
       "      <td>0</td>\n",
       "    </tr>\n",
       "  </tbody>\n",
       "</table>\n",
       "</div>"
      ],
      "text/plain": [
       "     x    y  visible\n",
       "0  394  139        2\n",
       "1  414  118        2\n",
       "2  333  231        2\n",
       "3  351  216        2\n",
       "4    0    0        0"
      ]
     },
     "execution_count": 3,
     "metadata": {},
     "output_type": "execute_result"
    }
   ],
   "source": [
    "keypoints_frame.head()"
   ]
  },
  {
   "cell_type": "code",
   "execution_count": 4,
   "metadata": {},
   "outputs": [],
   "source": [
    "data = keypoints_frame.to_numpy()"
   ]
  },
  {
   "cell_type": "code",
   "execution_count": 5,
   "metadata": {},
   "outputs": [
    {
     "data": {
      "text/plain": [
       "(11105, 6)"
      ]
     },
     "execution_count": 5,
     "metadata": {},
     "output_type": "execute_result"
    }
   ],
   "source": [
    "aug_data = np.zeros((data.shape[0]//2, data.shape[1]*2), dtype = np.int32)\n",
    "aug_data.shape"
   ]
  },
  {
   "cell_type": "code",
   "execution_count": 6,
   "metadata": {},
   "outputs": [],
   "source": [
    "for i in range(0,aug_data.shape[0]):\n",
    "    aug_data[i, 0:3] = data[2*i, 0:3]\n",
    "    aug_data[i, 3:6] = data[2*i +1, 0:3]"
   ]
  },
  {
   "cell_type": "code",
   "execution_count": 7,
   "metadata": {},
   "outputs": [
    {
     "data": {
      "text/plain": [
       "array([394, 139,   2, 414, 118,   2])"
      ]
     },
     "execution_count": 7,
     "metadata": {},
     "output_type": "execute_result"
    }
   ],
   "source": [
    "aug_data[0, :]"
   ]
  },
  {
   "cell_type": "code",
   "execution_count": 8,
   "metadata": {},
   "outputs": [],
   "source": [
    "corrected_data = pd.DataFrame({'x1':aug_data[:, 0],'y1':aug_data[:, 1],'vis1':aug_data[:, 2],'x2':aug_data[:, 3],'y2':aug_data[:, 4],'vis2':aug_data[:, 5]})"
   ]
  },
  {
   "cell_type": "code",
   "execution_count": 9,
   "metadata": {},
   "outputs": [
    {
     "data": {
      "text/html": [
       "<div>\n",
       "<style scoped>\n",
       "    .dataframe tbody tr th:only-of-type {\n",
       "        vertical-align: middle;\n",
       "    }\n",
       "\n",
       "    .dataframe tbody tr th {\n",
       "        vertical-align: top;\n",
       "    }\n",
       "\n",
       "    .dataframe thead th {\n",
       "        text-align: right;\n",
       "    }\n",
       "</style>\n",
       "<table border=\"1\" class=\"dataframe\">\n",
       "  <thead>\n",
       "    <tr style=\"text-align: right;\">\n",
       "      <th></th>\n",
       "      <th>x1</th>\n",
       "      <th>y1</th>\n",
       "      <th>vis1</th>\n",
       "      <th>x2</th>\n",
       "      <th>y2</th>\n",
       "      <th>vis2</th>\n",
       "    </tr>\n",
       "  </thead>\n",
       "  <tbody>\n",
       "    <tr>\n",
       "      <th>11100</th>\n",
       "      <td>344</td>\n",
       "      <td>177</td>\n",
       "      <td>2</td>\n",
       "      <td>305</td>\n",
       "      <td>105</td>\n",
       "      <td>2</td>\n",
       "    </tr>\n",
       "    <tr>\n",
       "      <th>11101</th>\n",
       "      <td>358</td>\n",
       "      <td>153</td>\n",
       "      <td>2</td>\n",
       "      <td>258</td>\n",
       "      <td>126</td>\n",
       "      <td>2</td>\n",
       "    </tr>\n",
       "    <tr>\n",
       "      <th>11102</th>\n",
       "      <td>517</td>\n",
       "      <td>165</td>\n",
       "      <td>1</td>\n",
       "      <td>376</td>\n",
       "      <td>130</td>\n",
       "      <td>2</td>\n",
       "    </tr>\n",
       "    <tr>\n",
       "      <th>11103</th>\n",
       "      <td>323</td>\n",
       "      <td>209</td>\n",
       "      <td>2</td>\n",
       "      <td>231</td>\n",
       "      <td>209</td>\n",
       "      <td>2</td>\n",
       "    </tr>\n",
       "    <tr>\n",
       "      <th>11104</th>\n",
       "      <td>0</td>\n",
       "      <td>0</td>\n",
       "      <td>0</td>\n",
       "      <td>0</td>\n",
       "      <td>0</td>\n",
       "      <td>0</td>\n",
       "    </tr>\n",
       "  </tbody>\n",
       "</table>\n",
       "</div>"
      ],
      "text/plain": [
       "        x1   y1  vis1   x2   y2  vis2\n",
       "11100  344  177     2  305  105     2\n",
       "11101  358  153     2  258  126     2\n",
       "11102  517  165     1  376  130     2\n",
       "11103  323  209     2  231  209     2\n",
       "11104    0    0     0    0    0     0"
      ]
     },
     "execution_count": 9,
     "metadata": {},
     "output_type": "execute_result"
    }
   ],
   "source": [
    "corrected_data.tail()"
   ]
  },
  {
   "cell_type": "code",
   "execution_count": 10,
   "metadata": {},
   "outputs": [],
   "source": [
    "directory = \"D:/train_images/\"\n",
    "path = []\n",
    "for filename in os.listdir(directory):\n",
    "    path.append(filename)"
   ]
  },
  {
   "cell_type": "code",
   "execution_count": 33,
   "metadata": {},
   "outputs": [
    {
     "data": {
      "text/html": [
       "<div>\n",
       "<style scoped>\n",
       "    .dataframe tbody tr th:only-of-type {\n",
       "        vertical-align: middle;\n",
       "    }\n",
       "\n",
       "    .dataframe tbody tr th {\n",
       "        vertical-align: top;\n",
       "    }\n",
       "\n",
       "    .dataframe thead th {\n",
       "        text-align: right;\n",
       "    }\n",
       "</style>\n",
       "<table border=\"1\" class=\"dataframe\">\n",
       "  <thead>\n",
       "    <tr style=\"text-align: right;\">\n",
       "      <th></th>\n",
       "      <th>x1</th>\n",
       "      <th>y1</th>\n",
       "      <th>vis1</th>\n",
       "      <th>x2</th>\n",
       "      <th>y2</th>\n",
       "      <th>vis2</th>\n",
       "      <th>path</th>\n",
       "    </tr>\n",
       "  </thead>\n",
       "  <tbody>\n",
       "    <tr>\n",
       "      <th>0</th>\n",
       "      <td>394</td>\n",
       "      <td>139</td>\n",
       "      <td>2</td>\n",
       "      <td>414</td>\n",
       "      <td>118</td>\n",
       "      <td>2</td>\n",
       "      <td>000000.jpg</td>\n",
       "    </tr>\n",
       "    <tr>\n",
       "      <th>1</th>\n",
       "      <td>333</td>\n",
       "      <td>231</td>\n",
       "      <td>2</td>\n",
       "      <td>351</td>\n",
       "      <td>216</td>\n",
       "      <td>2</td>\n",
       "      <td>000001.jpg</td>\n",
       "    </tr>\n",
       "    <tr>\n",
       "      <th>2</th>\n",
       "      <td>0</td>\n",
       "      <td>0</td>\n",
       "      <td>0</td>\n",
       "      <td>0</td>\n",
       "      <td>0</td>\n",
       "      <td>0</td>\n",
       "      <td>000002.jpg</td>\n",
       "    </tr>\n",
       "    <tr>\n",
       "      <th>3</th>\n",
       "      <td>336</td>\n",
       "      <td>130</td>\n",
       "      <td>2</td>\n",
       "      <td>291</td>\n",
       "      <td>111</td>\n",
       "      <td>2</td>\n",
       "      <td>000003.jpg</td>\n",
       "    </tr>\n",
       "    <tr>\n",
       "      <th>4</th>\n",
       "      <td>251</td>\n",
       "      <td>340</td>\n",
       "      <td>2</td>\n",
       "      <td>0</td>\n",
       "      <td>0</td>\n",
       "      <td>0</td>\n",
       "      <td>000004.jpg</td>\n",
       "    </tr>\n",
       "  </tbody>\n",
       "</table>\n",
       "</div>"
      ],
      "text/plain": [
       "    x1   y1  vis1   x2   y2  vis2        path\n",
       "0  394  139     2  414  118     2  000000.jpg\n",
       "1  333  231     2  351  216     2  000001.jpg\n",
       "2    0    0     0    0    0     0  000002.jpg\n",
       "3  336  130     2  291  111     2  000003.jpg\n",
       "4  251  340     2    0    0     0  000004.jpg"
      ]
     },
     "execution_count": 33,
     "metadata": {},
     "output_type": "execute_result"
    }
   ],
   "source": [
    "corrected_data.head()"
   ]
  },
  {
   "cell_type": "code",
   "execution_count": 40,
   "metadata": {},
   "outputs": [
    {
     "data": {
      "text/html": [
       "<div>\n",
       "<style scoped>\n",
       "    .dataframe tbody tr th:only-of-type {\n",
       "        vertical-align: middle;\n",
       "    }\n",
       "\n",
       "    .dataframe tbody tr th {\n",
       "        vertical-align: top;\n",
       "    }\n",
       "\n",
       "    .dataframe thead th {\n",
       "        text-align: right;\n",
       "    }\n",
       "</style>\n",
       "<table border=\"1\" class=\"dataframe\">\n",
       "  <thead>\n",
       "    <tr style=\"text-align: right;\">\n",
       "      <th></th>\n",
       "      <th>x1</th>\n",
       "      <th>y1</th>\n",
       "      <th>vis1</th>\n",
       "      <th>x2</th>\n",
       "      <th>y2</th>\n",
       "      <th>vis2</th>\n",
       "      <th>path</th>\n",
       "    </tr>\n",
       "  </thead>\n",
       "  <tbody>\n",
       "    <tr>\n",
       "      <th>0</th>\n",
       "      <td>394</td>\n",
       "      <td>139</td>\n",
       "      <td>2</td>\n",
       "      <td>414</td>\n",
       "      <td>118</td>\n",
       "      <td>2</td>\n",
       "      <td>000000.jpg</td>\n",
       "    </tr>\n",
       "    <tr>\n",
       "      <th>1</th>\n",
       "      <td>333</td>\n",
       "      <td>231</td>\n",
       "      <td>2</td>\n",
       "      <td>351</td>\n",
       "      <td>216</td>\n",
       "      <td>2</td>\n",
       "      <td>000001.jpg</td>\n",
       "    </tr>\n",
       "    <tr>\n",
       "      <th>3</th>\n",
       "      <td>336</td>\n",
       "      <td>130</td>\n",
       "      <td>2</td>\n",
       "      <td>291</td>\n",
       "      <td>111</td>\n",
       "      <td>2</td>\n",
       "      <td>000003.jpg</td>\n",
       "    </tr>\n",
       "    <tr>\n",
       "      <th>5</th>\n",
       "      <td>484</td>\n",
       "      <td>204</td>\n",
       "      <td>2</td>\n",
       "      <td>93</td>\n",
       "      <td>205</td>\n",
       "      <td>2</td>\n",
       "      <td>000005.jpg</td>\n",
       "    </tr>\n",
       "    <tr>\n",
       "      <th>6</th>\n",
       "      <td>396</td>\n",
       "      <td>173</td>\n",
       "      <td>2</td>\n",
       "      <td>360</td>\n",
       "      <td>176</td>\n",
       "      <td>2</td>\n",
       "      <td>000006.jpg</td>\n",
       "    </tr>\n",
       "  </tbody>\n",
       "</table>\n",
       "</div>"
      ],
      "text/plain": [
       "    x1   y1  vis1   x2   y2  vis2        path\n",
       "0  394  139     2  414  118     2  000000.jpg\n",
       "1  333  231     2  351  216     2  000001.jpg\n",
       "3  336  130     2  291  111     2  000003.jpg\n",
       "5  484  204     2   93  205     2  000005.jpg\n",
       "6  396  173     2  360  176     2  000006.jpg"
      ]
     },
     "execution_count": 40,
     "metadata": {},
     "output_type": "execute_result"
    }
   ],
   "source": [
    "corrected_data = corrected_data[corrected_data.vis1 != 0]\n",
    "corrected_data = corrected_data[corrected_data.vis2 != 0]\n",
    "corrected_data.head()"
   ]
  },
  {
   "cell_type": "code",
   "execution_count": 41,
   "metadata": {},
   "outputs": [
    {
     "name": "stdout",
     "output_type": "stream",
     "text": [
      "Found 9361 validated image filenames.\n"
     ]
    }
   ],
   "source": [
    "# now create the image data generator\n",
    "datagen = ImageDataGenerator(rescale = 1./255)\n",
    "train_generator = datagen.flow_from_dataframe(dataframe = corrected_data, directory = directory, x_col = \"path\", y_col = ['x1', 'y1', 'x2', 'y2'], class_mode = \"raw\", target_size = (480,580), batch_size = 8)"
   ]
  },
  {
   "cell_type": "code",
   "execution_count": 50,
   "metadata": {},
   "outputs": [],
   "source": [
    "model = keras.models.Sequential()\n",
    "model.add(keras.layers.Conv2D(32, (3, 3), padding='same',input_shape=(480,580,3)))\n",
    "model.add(Activation('relu'))\n",
    "model.add(Conv2D(32, (3, 3)))\n",
    "model.add(Activation('relu'))\n",
    "model.add(MaxPooling2D(pool_size=(2, 2)))\n",
    "model.add(Dropout(0.25))\n",
    "\n",
    "model.add(Conv2D(64, (3, 3), padding='same'))\n",
    "model.add(Activation('relu'))\n",
    "model.add(Conv2D(64, (3, 3)))\n",
    "model.add(Activation('relu'))\n",
    "model.add(MaxPooling2D(pool_size=(2, 2)))\n",
    "model.add(Dropout(0.25))\n",
    "\n",
    "model.add(Conv2D(64, (3, 3), padding='same'))\n",
    "model.add(Activation('relu'))\n",
    "model.add(Conv2D(64, (3, 3)))\n",
    "model.add(Activation('relu'))\n",
    "model.add(MaxPooling2D(pool_size=(2, 2)))\n",
    "model.add(Dropout(0.25))\n",
    "\n",
    "model.add(Conv2D(64, (3, 3), padding='same'))\n",
    "model.add(Activation('relu'))\n",
    "model.add(Conv2D(64, (3, 3)))\n",
    "model.add(Activation('relu'))\n",
    "model.add(MaxPooling2D(pool_size=(2, 2)))\n",
    "\n",
    "model.add(Conv2D(64, (3, 3), padding='same'))\n",
    "model.add(Activation('relu'))\n",
    "model.add(Conv2D(64, (3, 3)))\n",
    "model.add(Activation('relu'))\n",
    "model.add(MaxPooling2D(pool_size=(2, 2)))\n",
    "\n",
    "model.add(Conv2D(64, (3, 3), padding='same'))\n",
    "model.add(Activation('relu'))\n",
    "model.add(Conv2D(64, (3, 3)))\n",
    "model.add(Activation('relu'))\n",
    "model.add(MaxPooling2D(pool_size=(2, 2)))\n",
    "\n",
    "model.add(Conv2D(64, (3, 3), padding='same'))\n",
    "model.add(Activation('relu'))\n",
    "model.add(Conv2D(64, (3, 3)))\n",
    "model.add(Activation('relu'))\n",
    "model.add(MaxPooling2D(pool_size=(2, 2)))\n",
    "\n",
    "model.add(Flatten())\n",
    "model.add(Dense(64))\n",
    "model.add(Activation('relu'))\n",
    "model.add(Dropout(0.5))\n",
    "model.add(Dense(4, activation=None))"
   ]
  },
  {
   "cell_type": "code",
   "execution_count": 51,
   "metadata": {},
   "outputs": [
    {
     "name": "stdout",
     "output_type": "stream",
     "text": [
      "Model: \"sequential_4\"\n",
      "_________________________________________________________________\n",
      "Layer (type)                 Output Shape              Param #   \n",
      "=================================================================\n",
      "conv2d_52 (Conv2D)           (None, 480, 580, 32)      896       \n",
      "_________________________________________________________________\n",
      "activation_54 (Activation)   (None, 480, 580, 32)      0         \n",
      "_________________________________________________________________\n",
      "conv2d_53 (Conv2D)           (None, 478, 578, 32)      9248      \n",
      "_________________________________________________________________\n",
      "activation_55 (Activation)   (None, 478, 578, 32)      0         \n",
      "_________________________________________________________________\n",
      "max_pooling2d_25 (MaxPooling (None, 239, 289, 32)      0         \n",
      "_________________________________________________________________\n",
      "dropout_15 (Dropout)         (None, 239, 289, 32)      0         \n",
      "_________________________________________________________________\n",
      "conv2d_54 (Conv2D)           (None, 239, 289, 64)      18496     \n",
      "_________________________________________________________________\n",
      "activation_56 (Activation)   (None, 239, 289, 64)      0         \n",
      "_________________________________________________________________\n",
      "conv2d_55 (Conv2D)           (None, 237, 287, 64)      36928     \n",
      "_________________________________________________________________\n",
      "activation_57 (Activation)   (None, 237, 287, 64)      0         \n",
      "_________________________________________________________________\n",
      "max_pooling2d_26 (MaxPooling (None, 118, 143, 64)      0         \n",
      "_________________________________________________________________\n",
      "dropout_16 (Dropout)         (None, 118, 143, 64)      0         \n",
      "_________________________________________________________________\n",
      "conv2d_56 (Conv2D)           (None, 118, 143, 64)      36928     \n",
      "_________________________________________________________________\n",
      "activation_58 (Activation)   (None, 118, 143, 64)      0         \n",
      "_________________________________________________________________\n",
      "conv2d_57 (Conv2D)           (None, 116, 141, 64)      36928     \n",
      "_________________________________________________________________\n",
      "activation_59 (Activation)   (None, 116, 141, 64)      0         \n",
      "_________________________________________________________________\n",
      "max_pooling2d_27 (MaxPooling (None, 58, 70, 64)        0         \n",
      "_________________________________________________________________\n",
      "dropout_17 (Dropout)         (None, 58, 70, 64)        0         \n",
      "_________________________________________________________________\n",
      "conv2d_58 (Conv2D)           (None, 58, 70, 64)        36928     \n",
      "_________________________________________________________________\n",
      "activation_60 (Activation)   (None, 58, 70, 64)        0         \n",
      "_________________________________________________________________\n",
      "conv2d_59 (Conv2D)           (None, 56, 68, 64)        36928     \n",
      "_________________________________________________________________\n",
      "activation_61 (Activation)   (None, 56, 68, 64)        0         \n",
      "_________________________________________________________________\n",
      "max_pooling2d_28 (MaxPooling (None, 28, 34, 64)        0         \n",
      "_________________________________________________________________\n",
      "conv2d_60 (Conv2D)           (None, 28, 34, 64)        36928     \n",
      "_________________________________________________________________\n",
      "activation_62 (Activation)   (None, 28, 34, 64)        0         \n",
      "_________________________________________________________________\n",
      "conv2d_61 (Conv2D)           (None, 26, 32, 64)        36928     \n",
      "_________________________________________________________________\n",
      "activation_63 (Activation)   (None, 26, 32, 64)        0         \n",
      "_________________________________________________________________\n",
      "max_pooling2d_29 (MaxPooling (None, 13, 16, 64)        0         \n",
      "_________________________________________________________________\n",
      "conv2d_62 (Conv2D)           (None, 13, 16, 64)        36928     \n",
      "_________________________________________________________________\n",
      "activation_64 (Activation)   (None, 13, 16, 64)        0         \n",
      "_________________________________________________________________\n",
      "conv2d_63 (Conv2D)           (None, 11, 14, 64)        36928     \n",
      "_________________________________________________________________\n",
      "activation_65 (Activation)   (None, 11, 14, 64)        0         \n",
      "_________________________________________________________________\n",
      "max_pooling2d_30 (MaxPooling (None, 5, 7, 64)          0         \n",
      "_________________________________________________________________\n",
      "conv2d_64 (Conv2D)           (None, 5, 7, 64)          36928     \n",
      "_________________________________________________________________\n",
      "activation_66 (Activation)   (None, 5, 7, 64)          0         \n",
      "_________________________________________________________________\n",
      "conv2d_65 (Conv2D)           (None, 3, 5, 64)          36928     \n",
      "_________________________________________________________________\n",
      "activation_67 (Activation)   (None, 3, 5, 64)          0         \n",
      "_________________________________________________________________\n",
      "max_pooling2d_31 (MaxPooling (None, 1, 2, 64)          0         \n",
      "_________________________________________________________________\n",
      "flatten_3 (Flatten)          (None, 128)               0         \n",
      "_________________________________________________________________\n",
      "dense_6 (Dense)              (None, 64)                8256      \n",
      "_________________________________________________________________\n",
      "activation_68 (Activation)   (None, 64)                0         \n",
      "_________________________________________________________________\n",
      "dropout_18 (Dropout)         (None, 64)                0         \n",
      "_________________________________________________________________\n",
      "dense_7 (Dense)              (None, 4)                 260       \n",
      "=================================================================\n",
      "Total params: 443,364\n",
      "Trainable params: 443,364\n",
      "Non-trainable params: 0\n",
      "_________________________________________________________________\n"
     ]
    }
   ],
   "source": [
    "model.summary()"
   ]
  },
  {
   "cell_type": "code",
   "execution_count": 52,
   "metadata": {},
   "outputs": [],
   "source": [
    "model.compile(optimizer='rmsprop',\n",
    "              loss='mse', metrics = ['accuracy'])"
   ]
  },
  {
   "cell_type": "code",
   "execution_count": 53,
   "metadata": {},
   "outputs": [
    {
     "name": "stderr",
     "output_type": "stream",
     "text": [
      "W0506 23:08:33.092272 15268 data_adapter.py:1091] sample_weight modes were coerced from\n",
      "  ...\n",
      "    to  \n",
      "  ['...']\n"
     ]
    },
    {
     "name": "stdout",
     "output_type": "stream",
     "text": [
      "Train for 1171 steps\n",
      "Epoch 1/2\n",
      "1171/1171 [==============================] - 1220s 1s/step - loss: 108672.5428 - accuracy: 0.5982\n",
      "Epoch 2/2\n",
      "1171/1171 [==============================] - 1051s 898ms/step - loss: 9986.4562 - accuracy: 0.6807\n"
     ]
    },
    {
     "data": {
      "text/plain": [
       "<tensorflow.python.keras.callbacks.History at 0x14c04a8f9b0>"
      ]
     },
     "execution_count": 53,
     "metadata": {},
     "output_type": "execute_result"
    }
   ],
   "source": [
    "model.fit_generator(generator=train_generator,\n",
    "                    epochs=2)"
   ]
  },
  {
   "cell_type": "code",
   "execution_count": 15,
   "metadata": {},
   "outputs": [],
   "source": [
    "model.load_weights('model.h5')"
   ]
  },
  {
   "cell_type": "code",
   "execution_count": 54,
   "metadata": {},
   "outputs": [],
   "source": [
    "json_model = model.to_json()\n",
    "with open(\"model.json\", \"w\") as json_file:\n",
    "    json_file.write(json_model)\n",
    "model.save_weights(\"model.h5\")"
   ]
  },
  {
   "cell_type": "code",
   "execution_count": 55,
   "metadata": {},
   "outputs": [],
   "source": [
    "img = cv2.imread('D:/train_images/000286.jpg')\n",
    "img = np.expand_dims(img, axis=0)\n",
    "# img.shape\n",
    "# img = cv2.cvtCOLOR(img ,cv2.COLOR_BGR2RGB)\n",
    "# plt.imshow(img)\n",
    "ans = model.predict(img, batch_size = 2)"
   ]
  },
  {
   "cell_type": "code",
   "execution_count": 56,
   "metadata": {},
   "outputs": [
    {
     "data": {
      "text/plain": [
       "array([[8753.373 , 5659.5894, 6320.8022, 5555.562 ]], dtype=float32)"
      ]
     },
     "execution_count": 56,
     "metadata": {},
     "output_type": "execute_result"
    }
   ],
   "source": [
    "ans"
   ]
  },
  {
   "cell_type": "code",
   "execution_count": null,
   "metadata": {},
   "outputs": [],
   "source": []
  }
 ],
 "metadata": {
  "kernelspec": {
   "display_name": "Python 3",
   "language": "python",
   "name": "python3"
  },
  "language_info": {
   "codemirror_mode": {
    "name": "ipython",
    "version": 3
   },
   "file_extension": ".py",
   "mimetype": "text/x-python",
   "name": "python",
   "nbconvert_exporter": "python",
   "pygments_lexer": "ipython3",
   "version": "3.7.3"
  }
 },
 "nbformat": 4,
 "nbformat_minor": 2
}
